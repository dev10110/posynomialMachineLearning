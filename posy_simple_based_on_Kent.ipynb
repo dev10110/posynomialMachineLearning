{
 "cells": [
  {
   "cell_type": "code",
   "execution_count": 1,
   "metadata": {},
   "outputs": [],
   "source": [
    "# this implementation employs ideas from\n",
    "# https://people.eecs.berkeley.edu/~nagaban2/resources/portfolio/convex_report.pdf\n"
   ]
  },
  {
   "cell_type": "code",
   "execution_count": 2,
   "metadata": {},
   "outputs": [],
   "source": [
    "import torch\n",
    "import torch.nn as nn\n",
    "import torch.nn.functional as F"
   ]
  },
  {
   "cell_type": "code",
   "execution_count": 3,
   "metadata": {},
   "outputs": [],
   "source": [
    "class PosyNet(nn.Module):\n",
    "\n",
    "    def __init__(self):\n",
    "        super(PosyNet, self).__init__()\n",
    "        \n",
    "        # input: 3-vector (x, y, z)\n",
    "        self.len_x = 3\n",
    "        # output: 1-vector, posynomial approximation\n",
    "        \n",
    "        # number of monomials: M\n",
    "        self.M = 4\n",
    "        \n",
    "        \n",
    "        self.w = nn.Parameter(6*torch.rand(self.len_x, self.M)-3)\n",
    "        #self.powers = torch.FloatTensor([[0, -1, 1, 1, 1],[1, -2, 0, 2, 1], [0, -1, 0, 2, 1]]).t()\n",
    "        self.b = nn.Parameter(1.5*torch.rand(self.M))\n",
    "        \n",
    "        \n",
    "    def forward(self, x):\n",
    "        \n",
    "        y = torch.log(x)\n",
    "        \n",
    "        z = [torch.log(1+torch.exp(torch.matmul(self.w[:,i], y) + self.b[i])) for i in range(self.M)]\n",
    "        \n",
    "        zh = [torch.exp(zz) for zz in z]\n",
    "        \n",
    "        posy = sum(zh)-self.M\n",
    "           \n",
    "        return posy\n",
    "    \n"
   ]
  },
  {
   "cell_type": "code",
   "execution_count": 4,
   "metadata": {},
   "outputs": [],
   "source": [
    "def f(x):\n",
    "\n",
    "    out = x[1]**1.5*x[2]**3 + 2*x[0]**2*x[2]**-1 + 3*x[1]**3.2 + 4*x[0]**0.5*x[1]**-2*x[2]\n",
    "    \n",
    "    return out"
   ]
  },
  {
   "cell_type": "code",
   "execution_count": 5,
   "metadata": {},
   "outputs": [
    {
     "name": "stdout",
     "output_type": "stream",
     "text": [
      "PosyNet()\n"
     ]
    }
   ],
   "source": [
    "net = PosyNet()\n",
    "print(net)\n",
    "\n",
    "import torch.optim as optim\n",
    "\n",
    "criterion = nn.MSELoss()\n",
    "optimizer = optim.SGD(net.parameters(), lr=0.005, momentum=0.9)\n",
    "\n",
    "torch.set_printoptions(precision=3, sci_mode=False)"
   ]
  },
  {
   "cell_type": "code",
   "execution_count": 6,
   "metadata": {},
   "outputs": [
    {
     "data": {
      "text/plain": [
       "[Parameter containing:\n",
       " tensor([[-2.665, -2.345, -1.106,  0.561],\n",
       "         [ 0.737, -1.729,  2.545,  1.360],\n",
       "         [ 1.624, -1.250, -0.792, -1.107]], requires_grad=True),\n",
       " Parameter containing:\n",
       " tensor([1.111, 0.989, 0.980, 1.210], requires_grad=True)]"
      ]
     },
     "execution_count": 6,
     "metadata": {},
     "output_type": "execute_result"
    }
   ],
   "source": [
    "list(net.parameters())"
   ]
  },
  {
   "cell_type": "code",
   "execution_count": 11,
   "metadata": {},
   "outputs": [
    {
     "data": {
      "text/plain": [
       "[0.014696675288911745,\n",
       " 0.014027319868588772,\n",
       " 0.015416312233671002,\n",
       " 0.012989991983607372,\n",
       " 0.013021747747297923,\n",
       " 0.01244398567425378,\n",
       " 0.01236179072956368,\n",
       " 0.013879970162764342,\n",
       " 0.011869032476575588,\n",
       " 0.013850560001169753,\n",
       " 0.01253045438385167,\n",
       " 0.012435305231665552,\n",
       " 0.012823629608792544,\n",
       " 0.012215358497610396,\n",
       " 0.01231808281792534]"
      ]
     },
     "execution_count": 11,
     "metadata": {},
     "output_type": "execute_result"
    }
   ],
   "source": [
    "relative_loss_hist"
   ]
  },
  {
   "cell_type": "code",
   "execution_count": null,
   "metadata": {},
   "outputs": [],
   "source": []
  },
  {
   "cell_type": "code",
   "execution_count": null,
   "metadata": {},
   "outputs": [],
   "source": []
  }
 ],
 "metadata": {
  "kernelspec": {
   "display_name": "Python 3",
   "language": "python",
   "name": "python3"
  },
  "language_info": {
   "codemirror_mode": {
    "name": "ipython",
    "version": 3
   },
   "file_extension": ".py",
   "mimetype": "text/x-python",
   "name": "python",
   "nbconvert_exporter": "python",
   "pygments_lexer": "ipython3",
   "version": "3.6.7"
  }
 },
 "nbformat": 4,
 "nbformat_minor": 2
}
